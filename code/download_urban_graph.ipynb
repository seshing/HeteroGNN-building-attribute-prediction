{
 "cells": [
  {
   "cell_type": "code",
   "execution_count": null,
   "id": "74b3d694",
   "metadata": {},
   "outputs": [],
   "source": [
    "import urbanity as urb\n",
    "import osmnx as ox\n",
    "import geopandas as gpd\n",
    "from shapely.geometry import box\n",
    "import ee"
   ]
  },
  {
   "cell_type": "code",
   "execution_count": null,
   "id": "0749aed8",
   "metadata": {},
   "outputs": [],
   "source": [
    "ee.Authenticate(auth_mode='notebook')\n",
    "ee.Initialize()\n",
    "\n",
    "city = 'washington d.c.'\n",
    "country = 'United States'\n",
    "m = urb.Map(country=country, zoom=14)\n",
    "boundary = ox.geocode_to_gdf(city)"
   ]
  },
  {
   "cell_type": "code",
   "execution_count": null,
   "id": "a22cd750",
   "metadata": {},
   "outputs": [],
   "source": [
    "my_dict = {'layer_names': ['Canopy height'], 'layers': ['users/nlang/ETH_GlobalCanopyHeight_2020_10m_v1'], 'methods':['mean']}\n",
    "urban_graph = m.get_urban_graph(\n",
    "                location = city,\n",
    "                save_as_h5=False,\n",
    "                save_as_npz=False,\n",
    "                add_gee_layers = my_dict,\n",
    "                population_layer='meta',\n",
    "                # svi_filepath = svi_filepath,\n",
    "                # add_lcz=True,\n",
    "                add_satellite_imagery=False)\n",
    "\n",
    "urban_graph.save_graph(f'{city}.zip')"
   ]
  }
 ],
 "metadata": {
  "language_info": {
   "name": "python"
  }
 },
 "nbformat": 4,
 "nbformat_minor": 5
}
